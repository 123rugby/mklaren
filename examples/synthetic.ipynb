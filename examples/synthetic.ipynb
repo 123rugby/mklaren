{
 "cells": [
  {
   "cell_type": "code",
   "execution_count": 3,
   "metadata": {
    "collapsed": true
   },
   "outputs": [],
   "source": [
    "import numpy as np\n",
    "import sklearn.linear_model as lm\n",
    "import sklearn.metrics as skm\n",
    "\n",
    "% matplotlib inline\n",
    "import matplotlib.pyplot as plt\n",
    "mse = skm.mean_squared_error\n",
    "\n",
    "# Kernels\n",
    "from mklaren.mkl.mklaren import Mklaren\n",
    "from mklaren.regression.ridge import RidgeLowRank\n",
    "from mklaren.kernel.kernel import exponential_kernel, linear_kernel\n",
    "from mklaren.kernel.kinterface import Kinterface"
   ]
  },
  {
   "cell_type": "markdown",
   "metadata": {},
   "source": [
    "In this test, we artificially generate data from a random nonlinear function, an see whether the methods can identify the correct data sources which contribute to the end signal."
   ]
  },
  {
   "cell_type": "code",
   "execution_count": 48,
   "metadata": {},
   "outputs": [
    {
     "name": "stdout",
     "output_type": "stream",
     "text": [
      "True kernel weights are sums of individual coefficients.\n\n[ 1.30481663  0.79111457  0.        ]\n"
     ]
    }
   ],
   "source": [
    "# Input dimension\n",
    "n = 100\n",
    "p = 3\n",
    "\n",
    "# Data is generated with different kernels\n",
    "A = 1 * (np.random.randn(n, p) > 0.6)\n",
    "B = np.random.randn(n, p)\n",
    "C = np.random.randn(n, p)   # irrelevant\n",
    "X = np.hstack([A, B, C])\n",
    "\n",
    "# Coefficients are non-negative\n",
    "beta = np.random.rand(p, 1).ravel()\n",
    "\n",
    "# Generate a signal as a complex combination of inputs\n",
    "# This is a four variable, non-linear function\n",
    "y = beta[0] * A[:,0] + beta[1] * A[:,1] + beta[2] * B[:,0] * B[:,1]\n",
    "y = y - y.mean()\n",
    "\n",
    "mu = np.array([beta[0] + beta[1], beta[2], 0])\n",
    "\n",
    "print(\"True kernel weights are sums of individual coefficients.\\n\")\n",
    "print(mu)"
   ]
  },
  {
   "cell_type": "code",
   "execution_count": 9,
   "metadata": {},
   "outputs": [
    {
     "name": "stdout",
     "output_type": "stream",
     "text": [
      "Linear model MSE: 0.119333\n"
     ]
    }
   ],
   "source": [
    "# Linear model fit baseline\n",
    "model = lm.LinearRegression()\n",
    "model.fit(X, y)\n",
    "ypl = model.predict(X)\n",
    "mse1 = mse(y, ypl)\n",
    "print(\"Linear model MSE: %f\" % mse1)"
   ]
  },
  {
   "cell_type": "code",
   "execution_count": 49,
   "metadata": {},
   "outputs": [
    {
     "name": "stdout",
     "output_type": "stream",
     "text": [
      "Mklaren model MSE: 0.180325\n"
     ]
    }
   ],
   "source": [
    "# Fit this data using Mklaren \n",
    "mkl = Mklaren(delta=3, rank=12, lbd=0)\n",
    "Ks = [Kinterface(x, kernel=exponential_kernel) for x in [A, B, C]]\n",
    "mkl.fit(Ks, y)\n",
    "ypm = mkl.predict([A, B, C])\n",
    "mse2 = mse(y, ypm)\n",
    "print(\"Mklaren model MSE: %f\" % mse2)\n",
    "mu_mkl = mkl.mu"
   ]
  },
  {
   "cell_type": "code",
   "execution_count": 50,
   "metadata": {},
   "outputs": [
    {
     "name": "stdout",
     "output_type": "stream",
     "text": [
      "CSI model MSE: 0.513567\n"
     ]
    }
   ],
   "source": [
    "# Fit data with Cholesky and estimate the regression coefficients\n",
    "rank = 4\n",
    "chol = RidgeLowRank(method=\"icd\", rank=4, lbd=0)\n",
    "chol.fit(Ks, y)\n",
    "\n",
    "ypc = chol.predict([A, B, C])\n",
    "mse3 = mse(y, ypc)\n",
    "print(\"CSI model MSE: %f\" % mse3)\n",
    "mu_chol = np.zeros((p,))\n",
    "for j in range(p):\n",
    "    mu_chol[j] = chol.reg_model.coef_[j * rank : (j+1) * rank].sum()"
   ]
  },
  {
   "cell_type": "code",
   "execution_count": 51,
   "metadata": {},
   "outputs": [
    {
     "data": {
      "image/png": "[encoded data removed]",
      "text/plain": [
       "<matplotlib.figure.Figure at 0x111187950>"
      ]
     },
     "metadata": {},
     "output_type": "display_data"
    }
   ],
   "source": [
    "# Plot the retrieved coefficients\n",
    "step = 0.2\n",
    "x1 = np.arange(len(mu))\n",
    "x2 = np.arange(len(mu)) + step\n",
    "x3 = np.arange(len(mu)) + 2 * step\n",
    "\n",
    "plt.figure()\n",
    "plt.bar(x1, mu / mu.sum(), align=\"center\", width=step/2, color=\"black\", label=\"True\")\n",
    "plt.bar(x2, mu_mkl / mu_mkl.sum(), align=\"center\", width=step/2, color=\"green\", label=\"Mklaren\")\n",
    "plt.bar(x3, mu_chol / mu_chol.sum(), align=\"center\", width=step/2, color=\"blue\", label=\"CSI\")\n",
    "plt.plot([-0.5, 3], [0, 0], color=\"black\")\n",
    "plt.xticks(x1)\n",
    "plt.gca().set_xticklabels([\"A\", \"B\", \"C\"])\n",
    "\n",
    "plt.legend()\n",
    "plt.title(\"Retrieving data source relevance\")\n",
    "plt.ylabel(\"Relative weight\")\n",
    "plt.xlabel(\"Kernel index\")\n",
    "plt.show()"
   ]
  }
 ],
 "metadata": {
  "kernelspec": {
   "display_name": "Python 2",
   "language": "python",
   "name": "python2"
  },
  "language_info": {
   "codemirror_mode": {
    "name": "ipython",
    "version": 2.0
   },
   "file_extension": ".py",
   "mimetype": "text/x-python",
   "name": "python",
   "nbconvert_exporter": "python",
   "pygments_lexer": "ipython2",
   "version": "2.7.6"
  }
 },
 "nbformat": 4,
 "nbformat_minor": 0
}