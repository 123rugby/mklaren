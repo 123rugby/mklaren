{
 "cells": [
  {
   "cell_type": "markdown",
   "metadata": {
    "collapsed": true
   },
   "source": [
    "Create a library of randomly generated non-linear functions. These are to be estimated a) with all possible kernels in the library or b) with exponential kernels only (this will probably present a problem with extrapolation). Of course, we are talking only about 1-layer realtionship, because we don't do deep learning.\n",
    "\n",
    "The random functions are to be estimated from a given set of kernels, and will be constructed from multiple data views (design matrices). Do we know these groupings in practice? Possibly. Should the scope of a function be limited to within the dataset only? Yes. \n",
    "\n",
    "What about the generation of weights? This is important to argue the MKL part. They are to be generated along with the function and stored in the same object.\n",
    "\n",
    "Can a data view be sampled multiple times? No, because this will heavily obstruct the evaluation.\n",
    "\n",
    "For each term in the *sum* we randomly sample:\n",
    "- A data view\n",
    "- A subset of indices of the data view's columns. These will be part of an aggregation function.\n",
    "- A function family to operate on the data view.\n",
    "\n",
    "\n",
    "A similar experiment shall be repeated for the case where functions are performed on the same data view (possibly using all incides), but with kernels with different hyperparameters.\n",
    "\n",
    "A similar experiment can be done when the signals are generate from a sum of kernels with different weights and regression is performed wia dual coefficients. The, we should use the relationship between primal and dual weights to compare the values. Again, repeat for the cases where function family is known and unknown.\n",
    "\n",
    "How to treat different values of hyperparameters? Maybe the solution is something like grid search, trying with multiple kernel functions with different hyperparameters."
   ]
  },
  {
   "cell_type": "code",
   "execution_count": 1,
   "metadata": {},
   "outputs": [],
   "source": [
    "from examples.functions import MultiKernelFunction\n",
    "from scipy.stats import chi2\n",
    "import numpy as np\n",
    "\n",
    "from mklaren.mkl.mklaren import Mklaren\n",
    "from mklaren.regression.ridge import RidgeLowRank\n",
    "from mklaren.kernel.kinterface import Kinterface\n",
    "import itertools as it\n",
    "\n",
    "import sklearn.metrics as skm\n",
    "mse = skm.mean_squared_error\n",
    "\n",
    "% matplotlib inline\n",
    "import matplotlib.pyplot as plt"
   ]
  },
  {
   "cell_type": "code",
   "execution_count": 70,
   "metadata": {},
   "outputs": [],
   "source": [
    "# Input dimension\n",
    "P = 3\n",
    "p = 10\n",
    "n = 300\n",
    "\n",
    "# Data is generated randomly\n",
    "X = np.random.randn(n, p)\n",
    "\n",
    "# Dual coefficients are non-negative\n",
    "alpha = np.array([np.random.randn() for i in range(n)])\n",
    "\n",
    "mf = MultiKernelFunction(P)\n",
    "y = mf(X, alpha)\n",
    "y = y - y.mean()\n",
    "\n",
    "# Error of mean predictions\n",
    "rmse0 = (mse(y, np.zeros((n,))) / n) **0.5"
   ]
  },
  {
   "cell_type": "code",
   "execution_count": 71,
   "metadata": {
    "collapsed": true
   },
   "outputs": [
    {
     "name": "stdout",
     "output_type": "stream",
     "text": [
      "Mklaren model RMSE: 8193.970412, mean RMSE: 9024.341606. \n\nFunctional form:\ny = \n\t 2.11e-02 lin(x, x, ) + \n\t 1.62e-01 poly(x, x, p=5.00, b=-3.00) + \n\t 7.61e-03 exp(x, x, gamma=35.94)\n"
     ]
    }
   ],
   "source": [
    "# Fit this data using Mklaren\n",
    "mkl = Mklaren(delta=3, rank=12, lbd=0)\n",
    "Ks = [Kinterface(X, kernel=f) for (_, (f, _)) \n",
    "      in sorted(MultiKernelFunction.library.items())]\n",
    "mkl.fit(Ks, y)\n",
    "ypm = mkl.predict([X, X, X])\n",
    "\n",
    "rmse2 = (mse(y, ypm) / n) ** 0.5\n",
    "\n",
    "print(\"Mklaren model RMSE: %f, mean RMSE: %f. \\n\" % (rmse2, rmse0))\n",
    "print(\"Functional form:\")\n",
    "print(mf)"
   ]
  },
  {
   "cell_type": "markdown",
   "metadata": {},
   "source": [
    "Compare approximated and true weights from different families. \n",
    "The functions use different hyper parameters, hence the discrepancy."
   ]
  },
  {
   "cell_type": "code",
   "execution_count": 72,
   "metadata": {
    "collapsed": true
   },
   "outputs": [
    {
     "name": "stdout",
     "output_type": "stream",
     "text": [
      "['exp', 'lin', 'poly']\n[       0.                0.          2839816.69588843]\n"
     ]
    }
   ],
   "source": [
    "print(sorted(MultiKernelFunction.library.keys()))\n",
    "print(mkl.mu)"
   ]
  },
  {
   "cell_type": "code",
   "execution_count": 73,
   "metadata": {},
   "outputs": [
    {
     "data": {
      "image/png": "[encoded data removed]",
      "text/plain": [
       "<matplotlib.figure.Figure at 0x11007ac50>"
      ]
     },
     "metadata": {},
     "output_type": "display_data"
    }
   ],
   "source": [
    "plt.figure()\n",
    "plt.hist(y, color=\"gray\")\n",
    "plt.title(\"Signal distribution\")\n",
    "plt.show()"
   ]
  },
  {
   "cell_type": "code",
   "execution_count": 74,
   "metadata": {},
   "outputs": [],
   "source": [
    "# Generate a target set of kernels in the library with all possible values of hyperparameters\n",
    "lib = MultiKernelFunction.library\n",
    "vals = MultiKernelFunction.values\n",
    "\n",
    "Ks = []\n",
    "for name, (f, pars) in lib.items():\n",
    "    if len(pars):\n",
    "        for p in pars:\n",
    "            for v in vals[p]:\n",
    "                k = Kinterface(data=X, kernel=f, kernel_args={p: v})\n",
    "                Ks.append(k)\n",
    "    else:\n",
    "        k = Kinterface(data=X, kernel=f)\n",
    "        Ks.append(k)"
   ]
  },
  {
   "cell_type": "markdown",
   "metadata": {},
   "source": [
    "Fit the MKL model to data and inspect weights."
   ]
  },
  {
   "cell_type": "code",
   "execution_count": 75,
   "metadata": {},
   "outputs": [],
   "source": [
    "mkl = Mklaren(delta=12, rank=10, lbd=0)\n",
    "mkl.fit(Ks, y)"
   ]
  },
  {
   "cell_type": "code",
   "execution_count": 76,
   "metadata": {
    "collapsed": true
   },
   "outputs": [
    {
     "name": "stdout",
     "output_type": "stream",
     "text": [
      "<function poly_kernel at 0x10e7e88c0> {'p': 2} 205826.497301\n<function poly_kernel at 0x10e7e88c0> {'p': 3} 2127942.73785\n<function poly_kernel at 0x10e7e88c0> {'p': 4} 42095.9972035\n<function poly_kernel at 0x10e7e88c0> {'p': 5} 1365293.45226\n<function poly_kernel at 0x10e7e88c0> {'b': -3.0} 162991.413699\n<function exponential_kernel at 0x10e7e89b0> {'gamma': 0.01} 505120.701006\n"
     ]
    }
   ],
   "source": [
    "mu = mkl.mu\n",
    "inxs = mkl.mu.nonzero()[0]\n",
    "for i in inxs:\n",
    "    print Ks[i].kernel, Ks[i].kernel_args, mu[i]"
   ]
  },
  {
   "cell_type": "code",
   "execution_count": null,
   "metadata": {},
   "outputs": [],
   "source": [
    ""
   ]
  }
 ],
 "metadata": {
  "kernelspec": {
   "display_name": "Python 2",
   "language": "python",
   "name": "python2"
  },
  "language_info": {
   "codemirror_mode": {
    "name": "ipython",
    "version": 2.0
   },
   "file_extension": ".py",
   "mimetype": "text/x-python",
   "name": "python",
   "nbconvert_exporter": "python",
   "pygments_lexer": "ipython2",
   "version": "2.7.6"
  }
 },
 "nbformat": 4,
 "nbformat_minor": 0
}