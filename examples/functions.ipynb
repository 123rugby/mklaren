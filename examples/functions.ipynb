{
 "cells": [
  {
   "cell_type": "markdown",
   "metadata": {
    "collapsed": true
   },
   "source": [
    "Create a library of randomly generated non-linear functions. These are to be estimated a) with all possible kernels in the library or b) with exponential kernels only (this will probably present a problem with extrapolation). Of course, we are talking only about 1-layer realtionship, because we don't do deep learning.\n",
    "\n",
    "The random functions are to be estimated from a given set of kernels, and will be constructed from multiple data views (design matrices). Do we know these groupings in practice? Possibly. Should the scope of a function be limited to within the dataset only? Yes. \n",
    "\n",
    "What about the generation of weights? This is important to argue the MKL part. They are to be generated along with the function and stored in the same object.\n",
    "\n",
    "Can a data view be sampled multiple times? No, because this will heavily obstruct the evaluation.\n",
    "\n",
    "For each term in the *sum* we randomly sample:\n",
    "- A data view\n",
    "- A subset of indices of the data view's columns. These will be part of an aggregation function.\n",
    "- A function family to operate on the data view.\n",
    "\n",
    "\n",
    "A similar experiment shall be repeated for the case where functions are performed on the same data view (possibly using all incides), but with kernels with different hyperparameters.\n",
    "\n",
    "A similar experiment can be done when the signals are generate from a sum of kernels with different weights and regression is performed wia dual coefficients. The, we should use the relationship between primal and dual weights to compare the values. Again, repeat for the cases where function family is known and unknown.\n",
    "\n",
    "How to treat different values of hyperparameters? Maybe the solution is something like grid search, trying with multiple kernel functions with different hyperparameters."
   ]
  },
  {
   "cell_type": "code",
   "execution_count": 33,
   "metadata": {},
   "outputs": [],
   "source": [
    "from examples.functions import MultiKernelFunction\n",
    "from scipy.stats import chi2\n",
    "import numpy as np\n",
    "\n",
    "from mklaren.mkl.mklaren import Mklaren\n",
    "from mklaren.regression.ridge import RidgeLowRank\n",
    "from mklaren.kernel.kinterface import Kinterface\n",
    "\n",
    "import sklearn.metrics as skm\n",
    "mse = skm.mean_squared_error\n",
    "\n",
    "% matplotlib inline\n",
    "import matplotlib.pyplot as plt"
   ]
  },
  {
   "cell_type": "code",
   "execution_count": 34,
   "metadata": {},
   "outputs": [],
   "source": [
    "# Input dimension\n",
    "P = 3\n",
    "p = 10\n",
    "n = 300\n",
    "\n",
    "# Data is generated randomly\n",
    "X = np.random.randn(n, p)\n",
    "\n",
    "# Dual coefficients are non-negative\n",
    "alpha = np.array([np.random.randn() for i in range(n)])\n",
    "\n",
    "mf = MultiKernelFunction(P)\n",
    "y = mf(X, alpha)\n",
    "y = y - y.mean()\n",
    "\n",
    "# Error of mean predictions\n",
    "rmse0 = mse(y, np.zeros((n,)))**0.5"
   ]
  },
  {
   "cell_type": "code",
   "execution_count": 35,
   "metadata": {
    "collapsed": true
   },
   "outputs": [
    {
     "name": "stdout",
     "output_type": "stream",
     "text": [
      "Mklaren model RMSE: 16358.786541, mean RMSE: 18458.310062. \n\nFunctional form:\ny = 1.35e+00 exp(x, x, gamma=43.29) + \n\t 4.89e-01 poly(x, x, p=4.00, b=-1.30) + \n\t 6.37e-01 exp(x, x, gamma=57.22)\n"
     ]
    }
   ],
   "source": [
    "# Fit this data using Mklaren\n",
    "mkl = Mklaren(delta=3, rank=12, lbd=0)\n",
    "Ks = [Kinterface(X, kernel=f) for (_, (f, _)) \n",
    "      in sorted(MultiKernelFunction.library.items())]\n",
    "mkl.fit(Ks, y)\n",
    "ypm = mkl.predict([X, X, X])\n",
    "\n",
    "rmse2 = mse(y, ypm)**0.5\n",
    "\n",
    "print(\"Mklaren model RMSE: %f, mean RMSE: %f. \\n\" % (rmse2, rmse0))\n",
    "print(\"Functional form:\")\n",
    "print(mf)"
   ]
  },
  {
   "cell_type": "markdown",
   "metadata": {},
   "source": [
    "Compare approximated and true weights from different families. \n",
    "The functions use different hyper parameters, hence the discrepancy."
   ]
  },
  {
   "cell_type": "code",
   "execution_count": 37,
   "metadata": {
    "collapsed": true
   },
   "outputs": [
    {
     "name": "stdout",
     "output_type": "stream",
     "text": [
      "['exp', 'lin', 'poly']\n[ 137530.12389801       0.          286434.19134715]\n"
     ]
    }
   ],
   "source": [
    "print(sorted(MultiKernelFunction.library.keys()))\n",
    "print(mkl.mu)"
   ]
  },
  {
   "cell_type": "code",
   "execution_count": 36,
   "metadata": {},
   "outputs": [
    {
     "data": {
      "image/png": "[encoded data removed]",
      "text/plain": [
       "<matplotlib.figure.Figure at 0x10afdf610>"
      ]
     },
     "metadata": {},
     "output_type": "display_data"
    }
   ],
   "source": [
    "plt.figure()\n",
    "plt.hist(y, color=\"gray\")\n",
    "plt.title(\"Signal distribution\")\n",
    "plt.show()"
   ]
  }
 ],
 "metadata": {
  "kernelspec": {
   "display_name": "Python 2",
   "language": "python",
   "name": "python2"
  },
  "language_info": {
   "codemirror_mode": {
    "name": "ipython",
    "version": 2.0
   },
   "file_extension": ".py",
   "mimetype": "text/x-python",
   "name": "python",
   "nbconvert_exporter": "python",
   "pygments_lexer": "ipython2",
   "version": "2.7.6"
  }
 },
 "nbformat": 4,
 "nbformat_minor": 0
}